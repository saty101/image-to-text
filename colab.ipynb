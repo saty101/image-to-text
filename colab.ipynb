{
  "nbformat": 4,
  "nbformat_minor": 0,
  "metadata": {
    "kernelspec": {
      "language": "python",
      "display_name": "Python 3",
      "name": "python3"
    },
    "language_info": {
      "name": "python",
      "version": "3.7.9",
      "mimetype": "text/x-python",
      "codemirror_mode": {
        "name": "ipython",
        "version": 3
      },
      "pygments_lexer": "ipython3",
      "nbconvert_exporter": "python",
      "file_extension": ".py"
    },
    "colab": {
      "name": "final_notebook.ipynb",
      "provenance": []
    }
  },
  "cells": [
    {
      "cell_type": "markdown",
      "metadata": {
        "id": "uj1EEy9RcTHb"
      },
      "source": [
        "# Annotating Video text\n",
        "\n",
        "Replace the youtube video link in the following code cell"
      ]
    },
    {
      "cell_type": "code",
      "metadata": {
        "trusted": true,
        "id": "m-gdkK3ScTHw",
        "outputId": "b48d51a9-0a4c-491a-d9fe-2c223f2679bb",
        "colab": {
          "base_uri": "https://localhost:8080/"
        }
      },
      "source": [
        "!pip install youtube_dl -q\n",
        "\n",
        "import youtube_dl\n",
        "\n",
        "link = \"https://www.youtube.com/watch?v=OZ--BAModfw\"\n",
        "\n",
        "ydl_opts = {}\n",
        "\n",
        "with youtube_dl.YoutubeDL(ydl_opts) as ydl:\n",
        "    info_dict = ydl.extract_info(link, download=False)\n",
        "    video_title = info_dict.get('title', None)\n",
        "\n",
        "# path = f'./{video_title}.mp4'\n",
        "path = f'./news.mp4'\n",
        "\n",
        "ydl_opts.update({'outtmpl':path})\n",
        "\n",
        "with youtube_dl.YoutubeDL(ydl_opts) as ydl:\n",
        "    ydl.download([link])"
      ],
      "execution_count": 1,
      "outputs": [
        {
          "output_type": "stream",
          "text": [
            "\u001b[K     |████████████████████████████████| 1.9MB 8.2MB/s \n",
            "\u001b[?25h[youtube] OZ--BAModfw: Downloading webpage\n",
            "[youtube] OZ--BAModfw: Downloading webpage\n",
            "[download] Destination: ./news.f135.mp4\n",
            "[download] 100% of 2.13MiB in 00:00\n",
            "[download] Destination: ./news.mp4.f140\n",
            "[download] 100% of 418.31KiB in 00:00\n",
            "[ffmpeg] Merging formats into \"./news.mp4\"\n",
            "Deleting original file ./news.f135.mp4 (pass -k to keep)\n",
            "Deleting original file ./news.mp4.f140 (pass -k to keep)\n"
          ],
          "name": "stdout"
        }
      ]
    },
    {
      "cell_type": "code",
      "metadata": {
        "trusted": true,
        "id": "gfln7WIRcTH3",
        "outputId": "5ef01027-6824-496c-e21f-04037cbf8892",
        "colab": {
          "base_uri": "https://localhost:8080/"
        }
      },
      "source": [
        "!ls"
      ],
      "execution_count": 2,
      "outputs": [
        {
          "output_type": "stream",
          "text": [
            "news.mp4  sample_data\n"
          ],
          "name": "stdout"
        }
      ]
    },
    {
      "cell_type": "code",
      "metadata": {
        "trusted": true,
        "id": "NCneRBwqcTH5"
      },
      "source": [
        "import imageio\n",
        "from PIL import Image\n",
        "import cv2\n",
        "import numpy as np\n",
        "import os\n",
        "import subprocess\n",
        "import matplotlib.pyplot as plt\n",
        "import matplotlib.patches as patches\n",
        "# import seaborn as sns\n",
        "# from IPython.display import Video, display\n",
        "import warnings\n",
        "warnings.filterwarnings(\"ignore\")"
      ],
      "execution_count": 4,
      "outputs": []
    },
    {
      "cell_type": "code",
      "metadata": {
        "trusted": true,
        "id": "uYQMaC-kcTH7"
      },
      "source": [
        "# Video(\"news.mp4\")\n",
        "# Video cannot be viewed on colab otherwise the runtime crashes"
      ],
      "execution_count": 6,
      "outputs": []
    },
    {
      "cell_type": "code",
      "metadata": {
        "trusted": true,
        "id": "uvCYJ4HfcTH9",
        "outputId": "a0ecf537-3ae6-46bc-9380-a8c47fac4c1f",
        "colab": {
          "base_uri": "https://localhost:8080/",
          "height": 38
        }
      },
      "source": [
        "video_name = \"news.mp4\"\n",
        "video_name"
      ],
      "execution_count": 17,
      "outputs": [
        {
          "output_type": "execute_result",
          "data": {
            "application/vnd.google.colaboratory.intrinsic+json": {
              "type": "string"
            },
            "text/plain": [
              "'news.mp4'"
            ]
          },
          "metadata": {
            "tags": []
          },
          "execution_count": 17
        }
      ]
    },
    {
      "cell_type": "code",
      "metadata": {
        "trusted": true,
        "id": "CIaFVK6JcTH_"
      },
      "source": [
        "video_path = f\"{video_name}\""
      ],
      "execution_count": 21,
      "outputs": []
    },
    {
      "cell_type": "code",
      "metadata": {
        "trusted": true,
        "id": "pATc6p5ScTIA"
      },
      "source": [
        "VIDEO_CODEC = \"MP4V\"\n",
        "video_name = os.path.basename(video_path)\n",
        "vidcap = cv2.VideoCapture(video_path)\n",
        "fps = vidcap.get(cv2.CAP_PROP_FPS)\n",
        "width = int(vidcap.get(cv2.CAP_PROP_FRAME_WIDTH))\n",
        "height = int(vidcap.get(cv2.CAP_PROP_FRAME_HEIGHT))\n",
        "output_path = \"labeled_\" + video_name\n",
        "tmp_output_path = \"tmp_\" + output_path\n",
        "output_video = cv2.VideoWriter(tmp_output_path, cv2.VideoWriter_fourcc(*VIDEO_CODEC), fps, (width, height))"
      ],
      "execution_count": 22,
      "outputs": []
    },
    {
      "cell_type": "code",
      "metadata": {
        "trusted": true,
        "id": "dtvbAkXscTIC",
        "outputId": "21d0af46-5327-46be-ccbd-96f2adde4abf",
        "colab": {
          "base_uri": "https://localhost:8080/"
        }
      },
      "source": [
        "# A sanity check\n",
        "video_name, fps, height, width"
      ],
      "execution_count": 23,
      "outputs": [
        {
          "output_type": "execute_result",
          "data": {
            "text/plain": [
              "('news.mp4', 25.0, 480, 640)"
            ]
          },
          "metadata": {
            "tags": []
          },
          "execution_count": 23
        }
      ]
    },
    {
      "cell_type": "code",
      "metadata": {
        "trusted": true,
        "id": "OUCU-W6OcTIE",
        "outputId": "c5ce73b9-8c2c-4c73-b626-2e84eab38065",
        "colab": {
          "base_uri": "https://localhost:8080/"
        }
      },
      "source": [
        "!pip install pytesseract -q\n",
        "!sudo apt install tesseract-ocr -q\n",
        "# ! apt install libtesseract-dev -q\n",
        "!pip install tesseract -q\n",
        "import pytesseract\n",
        "import sys"
      ],
      "execution_count": 11,
      "outputs": [
        {
          "output_type": "stream",
          "text": [
            "  Building wheel for pytesseract (setup.py) ... \u001b[?25l\u001b[?25hdone\n",
            "Reading package lists...\n",
            "Building dependency tree...\n",
            "Reading state information...\n",
            "The following additional packages will be installed:\n",
            "  tesseract-ocr-eng tesseract-ocr-osd\n",
            "The following NEW packages will be installed:\n",
            "  tesseract-ocr tesseract-ocr-eng tesseract-ocr-osd\n",
            "0 upgraded, 3 newly installed, 0 to remove and 31 not upgraded.\n",
            "Need to get 4,795 kB of archives.\n",
            "After this operation, 15.8 MB of additional disk space will be used.\n",
            "Get:1 http://archive.ubuntu.com/ubuntu bionic/universe amd64 tesseract-ocr-eng all 4.00~git24-0e00fe6-1.2 [1,588 kB]\n",
            "Get:2 http://archive.ubuntu.com/ubuntu bionic/universe amd64 tesseract-ocr-osd all 4.00~git24-0e00fe6-1.2 [2,989 kB]\n",
            "Get:3 http://archive.ubuntu.com/ubuntu bionic/universe amd64 tesseract-ocr amd64 4.00~git2288-10f4998a-2 [218 kB]\n",
            "Fetched 4,795 kB in 2s (2,011 kB/s)\n",
            "debconf: unable to initialize frontend: Dialog\n",
            "debconf: (No usable dialog-like program is installed, so the dialog based frontend cannot be used. at /usr/share/perl5/Debconf/FrontEnd/Dialog.pm line 76, <> line 3.)\n",
            "debconf: falling back to frontend: Readline\n",
            "debconf: unable to initialize frontend: Readline\n",
            "debconf: (This frontend requires a controlling tty.)\n",
            "debconf: falling back to frontend: Teletype\n",
            "dpkg-preconfigure: unable to re-open stdin: \n",
            "Selecting previously unselected package tesseract-ocr-eng.\n",
            "(Reading database ... 160983 files and directories currently installed.)\n",
            "Preparing to unpack .../tesseract-ocr-eng_4.00~git24-0e00fe6-1.2_all.deb ...\n",
            "Unpacking tesseract-ocr-eng (4.00~git24-0e00fe6-1.2) ...\n",
            "Selecting previously unselected package tesseract-ocr-osd.\n",
            "Preparing to unpack .../tesseract-ocr-osd_4.00~git24-0e00fe6-1.2_all.deb ...\n",
            "Unpacking tesseract-ocr-osd (4.00~git24-0e00fe6-1.2) ...\n",
            "Selecting previously unselected package tesseract-ocr.\n",
            "Preparing to unpack .../tesseract-ocr_4.00~git2288-10f4998a-2_amd64.deb ...\n",
            "Unpacking tesseract-ocr (4.00~git2288-10f4998a-2) ...\n",
            "Setting up tesseract-ocr-osd (4.00~git24-0e00fe6-1.2) ...\n",
            "Setting up tesseract-ocr-eng (4.00~git24-0e00fe6-1.2) ...\n",
            "Setting up tesseract-ocr (4.00~git2288-10f4998a-2) ...\n",
            "Processing triggers for man-db (2.8.3-2ubuntu0.1) ...\n",
            "\u001b[K     |████████████████████████████████| 45.6MB 92kB/s \n",
            "\u001b[?25h  Building wheel for tesseract (setup.py) ... \u001b[?25l\u001b[?25hdone\n"
          ],
          "name": "stdout"
        }
      ]
    },
    {
      "cell_type": "code",
      "metadata": {
        "trusted": true,
        "id": "K4BCvrdccTIG"
      },
      "source": [
        "def get_string(img):\n",
        "    # Convert to gray\n",
        "    img = cv2.cvtColor(img, cv2.COLOR_BGR2GRAY)\n",
        "    # Apply dilation and erosion to remove some noise\n",
        "    kernel = np.ones((1, 1), np.uint8)\n",
        "    img = cv2.dilate(img, kernel, iterations=1)\n",
        "    img = cv2.erode(img, kernel, iterations=1)\n",
        "    # Recognize text with tesseract for python\n",
        "    result = pytesseract.image_to_string(img, lang='eng', config='--psm6')\n",
        "    return result"
      ],
      "execution_count": 24,
      "outputs": []
    },
    {
      "cell_type": "code",
      "metadata": {
        "trusted": true,
        "id": "EHrdpKb2cTIJ"
      },
      "source": [
        "pytesseract.pytesseract.tesseract_cmd = (r'/usr/bin/tesseract')"
      ],
      "execution_count": 25,
      "outputs": []
    },
    {
      "cell_type": "markdown",
      "metadata": {
        "id": "SQr_pPPJe7d-"
      },
      "source": [
        "Following cell takes 10 minutes for completion"
      ]
    },
    {
      "cell_type": "code",
      "metadata": {
        "trusted": true,
        "id": "455tB2aEcTIK"
      },
      "source": [
        "annotations = []\n",
        "frame = 0\n",
        "while True:\n",
        "    it_worked, img = vidcap.read()\n",
        "    if not it_worked:\n",
        "        break\n",
        "    frame += 1\n",
        "    img_name = f\"{video_name}_frame{frame}\"\n",
        "    text = get_string(img)\n",
        "    \n",
        "    cv2.putText(img, text, (10,400), cv2.FONT_HERSHEY_SIMPLEX, 1.0, (0,255,255), thickness=1)\n",
        "    d = pytesseract.image_to_data(img, output_type=pytesseract.Output.DICT)\n",
        "    n_boxes = len(d[\"level\"])\n",
        "    for i in range(n_boxes):\n",
        "        if int(d[\"conf\"][i])>0:\n",
        "            (x, y, w, h) = (d[\"left\"][i], d[\"top\"][i], d[\"width\"][i], d[\"height\"][i])\n",
        "            cv2.rectangle(img, (x,y), (x+w, y+h), (0, 255, 255), 2)\n",
        "            annotations.append(text)\n",
        "            #         color = (0,255,0)\n",
        "#         cv2.putText(img, text, (x,y), (x+w, y+h), cv2.FONT_HERSHEY_SIMPLEX, color, 2)\n",
        "#     cv2.imshow(img)\n",
        "    output_video.write(img)\n",
        "output_video.release()\n",
        "if os.path.exists(output_path):\n",
        "    os.remove(output_path)\n",
        "subprocess.run([\"ffmpeg\", \"-i\", tmp_output_path, \"-crf\", \"18\", \"-preset\", \"slow\", \"-vcodec\", \"libx264\", output_path])\n",
        "os.remove(tmp_output_path)"
      ],
      "execution_count": 26,
      "outputs": []
    },
    {
      "cell_type": "markdown",
      "metadata": {
        "id": "ymOUOzn_cTIK"
      },
      "source": [
        "### Annotated video\n",
        "\n",
        "The captions appear in the middle while the captions are also stored in a variable annotations"
      ]
    },
    {
      "cell_type": "code",
      "metadata": {
        "trusted": true,
        "id": "IrsDe9y6cTIL"
      },
      "source": [
        "# Video(\"labeled_news.mp4\")\n",
        "# Video cannot be viewed on colab otherwise the runtime crashes"
      ],
      "execution_count": null,
      "outputs": []
    },
    {
      "cell_type": "markdown",
      "metadata": {
        "id": "UEkry56ucTIL"
      },
      "source": [
        "Now save the annotations to a file"
      ]
    },
    {
      "cell_type": "code",
      "metadata": {
        "trusted": true,
        "id": "lDGTlVjucTIL"
      },
      "source": [
        "with open(\"annotations.txt\", \"w\") as output:\n",
        "    output.write(str(annotations))"
      ],
      "execution_count": 27,
      "outputs": []
    },
    {
      "cell_type": "code",
      "metadata": {
        "id": "exQk82PycTIM"
      },
      "source": [
        ""
      ],
      "execution_count": null,
      "outputs": []
    }
  ]
}